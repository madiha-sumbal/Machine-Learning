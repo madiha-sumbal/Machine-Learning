{
  "nbformat": 4,
  "nbformat_minor": 0,
  "metadata": {
    "colab": {
      "provenance": [],
      "authorship_tag": "ABX9TyMVAkqcCgsftFacquXsGIR4",
      "include_colab_link": true
    },
    "kernelspec": {
      "name": "python3",
      "display_name": "Python 3"
    },
    "language_info": {
      "name": "python"
    }
  },
  "cells": [
    {
      "cell_type": "markdown",
      "metadata": {
        "id": "view-in-github",
        "colab_type": "text"
      },
      "source": [
        "<a href=\"https://colab.research.google.com/github/madiha-sumbal/Machine-Learning/blob/MLCODES/Python_tasks.ipynb\" target=\"_parent\"><img src=\"https://colab.research.google.com/assets/colab-badge.svg\" alt=\"Open In Colab\"/></a>"
      ]
    },
    {
      "cell_type": "code",
      "execution_count": null,
      "metadata": {
        "colab": {
          "base_uri": "https://localhost:8080/"
        },
        "id": "5jPgdSZZenK6",
        "outputId": "fe3af2ab-36f1-450c-b0f1-c66f6373a955"
      },
      "outputs": [
        {
          "output_type": "stream",
          "name": "stdout",
          "text": [
            "Hello World\n"
          ]
        }
      ],
      "source": [
        "print(\"Hello World\") #simple print in python"
      ]
    },
    {
      "cell_type": "code",
      "source": [
        "name = \"John Smith\" #variables\n",
        "age=20\n",
        "\n",
        "print (name)\n",
        "print('He is a new patient')\n",
        "print(age)\n"
      ],
      "metadata": {
        "colab": {
          "base_uri": "https://localhost:8080/"
        },
        "id": "Y4ffvzI3h_cN",
        "outputId": "8a2bff9a-ee05-4f9c-815b-7494183a2851"
      },
      "execution_count": null,
      "outputs": [
        {
          "output_type": "stream",
          "name": "stdout",
          "text": [
            "JohnSmith\n",
            "He is a new patient\n",
            "20\n"
          ]
        }
      ]
    },
    {
      "cell_type": "code",
      "source": [
        "name = input(\"What is your name? \") #receving inputs"
      ],
      "metadata": {
        "colab": {
          "base_uri": "https://localhost:8080/"
        },
        "id": "12x4a0JHmYCV",
        "outputId": "4fec9745-d5e0-44e2-a262-22d547e19f68"
      },
      "execution_count": null,
      "outputs": [
        {
          "name": "stdout",
          "output_type": "stream",
          "text": [
            "What is your name? Madiha Abbasi\n"
          ]
        }
      ]
    },
    {
      "cell_type": "code",
      "source": [
        "name = input(\"What is your name? \")  #concatination\n",
        "print(\"Hello \"+name)"
      ],
      "metadata": {
        "id": "PiEf6_1tmu8c"
      },
      "execution_count": null,
      "outputs": []
    },
    {
      "cell_type": "code",
      "source": [
        "birth_year = input(\"What is your birth_year? \") #type casting....3 types of data (1. String 2.Numbers 3. Boolens)\n",
        "age = 2024 - birth_year #error (subtract integeric value from string value: to solve this problem use typecasting)\n",
        "print(age)"
      ],
      "metadata": {
        "collapsed": true,
        "id": "y_iLb1bD1t7w"
      },
      "execution_count": null,
      "outputs": []
    },
    {
      "cell_type": "code",
      "source": [
        "birth_year = input(\"What is your birth_year? \")\n",
        "age = 2024 - int(birth_year) #use of 1.int(), 2. float(), 3. bool(), 4. str() for type casting\n",
        "print(age)"
      ],
      "metadata": {
        "colab": {
          "base_uri": "https://localhost:8080/"
        },
        "id": "zJU1fndX3pIL",
        "outputId": "c88a855a-b0c6-4600-b2d5-97adc9fc8dd8"
      },
      "execution_count": null,
      "outputs": [
        {
          "output_type": "stream",
          "name": "stdout",
          "text": [
            "What is your birth_year? 2005\n",
            "19\n"
          ]
        }
      ]
    },
    {
      "cell_type": "code",
      "source": [
        "num_1 = input(\"First: \")\n",
        "num_2 = input(\"Second: \")\n",
        "Sum = float(num_1) + float(num_2)\n",
        "print(\"Sum:\" + str(Sum ))\n",
        "#OR\n",
        "num_1 = float(input(\"First: \"))\n",
        "num_2 = float(input(\"Second: \"))\n",
        "Sum = num_1 + num_2\n",
        "print(\"Sum:\" + str(Sum ))"
      ],
      "metadata": {
        "colab": {
          "base_uri": "https://localhost:8080/"
        },
        "id": "2OYy2ubC8XQV",
        "outputId": "f6a863d9-a740-4b08-e1ab-161c5c1582d3"
      },
      "execution_count": null,
      "outputs": [
        {
          "output_type": "stream",
          "name": "stdout",
          "text": [
            "First: 8\n",
            "Second: 9\n",
            "Sum:17.0\n",
            "First: 9\n",
            "Second: 9\n",
            "Sum:18.0\n"
          ]
        }
      ]
    },
    {
      "cell_type": "code",
      "source": [
        "course = \"Its intresting to learn python\"  # String in Python is an object\n",
        "print(course.upper())  # This will return a new string with all uppercase letters\n",
        "print(course.lower())  # This will return a new string with all lowercase letters\n",
        "print(course.find('e'))  # This will return the index of the first occurrence of 'e'\n",
        "print(course.find('learn'))  # This will return the index of the start of the substring 'learn'\n",
        "print(course.replace('intresting', 'lovely'))  # This will return a new string with 'intresting' replaced by 'lovely'\n"
      ],
      "metadata": {
        "colab": {
          "base_uri": "https://localhost:8080/"
        },
        "id": "_b-LAv_SXzDh",
        "outputId": "0eac2a48-9926-4ed8-dd67-b7a1384299a6"
      },
      "execution_count": null,
      "outputs": [
        {
          "output_type": "stream",
          "name": "stdout",
          "text": [
            "ITS INTRESTING TO LEARN PYTHON\n",
            "its intresting to learn python\n",
            "8\n",
            "18\n",
            "Its lovely to learn python\n"
          ]
        }
      ]
    },
    {
      "cell_type": "code",
      "source": [
        "course = 'Python for course'\n",
        "print('Python' in course) # the 'in' keyword checks for the presence of a substring within a string"
      ],
      "metadata": {
        "colab": {
          "base_uri": "https://localhost:8080/"
        },
        "id": "FXMRTQe75A_D",
        "outputId": "b541d834-dfc4-4ea3-ce68-3eef5f5064bd"
      },
      "execution_count": null,
      "outputs": [
        {
          "output_type": "stream",
          "name": "stdout",
          "text": [
            "True\n"
          ]
        }
      ]
    },
    {
      "cell_type": "code",
      "source": [
        "print(10 - 3)   # Subtraction: 10 minus 3\n",
        "print(10 * 3)   # Multiplication: 10 times 3\n",
        "print(10 / 3)   # Division: 10 divided by 3 (float result)\n",
        "print(10 // 3)  # Floor Division: 10 divided by 3 (integer result, rounded down)\n",
        "print(10 % 3)   # Modulus: Remainder of 10 divided by 3\n",
        "print(10 ** 3)  # Exponentiation: 10 raised to the power of 3"
      ],
      "metadata": {
        "colab": {
          "base_uri": "https://localhost:8080/"
        },
        "id": "PZG9gJb7aduU",
        "outputId": "0313e0a0-c93d-44d4-8cb9-bc4a88874992"
      },
      "execution_count": null,
      "outputs": [
        {
          "output_type": "stream",
          "name": "stdout",
          "text": [
            "7\n",
            "30\n",
            "3.3333333333333335\n",
            "3\n",
            "1\n",
            "1000\n"
          ]
        }
      ]
    },
    {
      "cell_type": "code",
      "source": [
        "x = 10          # Arithmetic Operator\n",
        "x = x + 3       # Add 3 to x, so x is now 13\n",
        "x += 3          # Add 3 to x again, so x is now 16\n",
        "x *= 3          # Multiply x by 3, so x is now 48\n",
        "x /= 3          # Divide x by 3, so x is now 16.0 (note: division produces a float)\n",
        "print(x)        # Print the final value of x\n",
        "\n"
      ],
      "metadata": {
        "colab": {
          "base_uri": "https://localhost:8080/"
        },
        "id": "1J1Yrr697thu",
        "outputId": "a80f64e4-fe6d-400b-a62e-d697c5360bcf"
      },
      "execution_count": null,
      "outputs": [
        {
          "output_type": "stream",
          "name": "stdout",
          "text": [
            "16.0\n"
          ]
        }
      ]
    },
    {
      "cell_type": "code",
      "source": [
        "#Operator Precedence......BDMOS Rule\n",
        "x = 10 + 3 * 2 #operator precedence determines the order in which different operations are performed in an expression.\n",
        "print(x)\n",
        "x = 10 + (3 * 2) #operator precedence determines the order in which different operations are performed in an expression.\n",
        "print(x)\n"
      ],
      "metadata": {
        "colab": {
          "base_uri": "https://localhost:8080/"
        },
        "id": "yB0VL9oC8Y20",
        "outputId": "b82df67a-ef76-40f9-f243-6f1afa3de2f9"
      },
      "execution_count": null,
      "outputs": [
        {
          "output_type": "stream",
          "name": "stdout",
          "text": [
            "16\n",
            "16\n"
          ]
        }
      ]
    },
    {
      "cell_type": "code",
      "source": [
        "#Comparison Operator.....< , >, = , !=, <= , >=\n",
        "x = 2 > 3\n",
        "x = 3 <=4\n",
        "print(x)\n",
        "x = 3 < 4\n",
        "print(x)\n",
        "x = 3==3\n",
        "print(x)\n",
        "x = 3!=2\n",
        "print(x)"
      ],
      "metadata": {
        "colab": {
          "base_uri": "https://localhost:8080/"
        },
        "id": "qnb2Gxmz96QZ",
        "outputId": "b3af289e-df7f-489a-a827-26b3c76a63ad"
      },
      "execution_count": null,
      "outputs": [
        {
          "output_type": "stream",
          "name": "stdout",
          "text": [
            "True\n",
            "True\n",
            "True\n",
            "True\n"
          ]
        }
      ]
    },
    {
      "cell_type": "code",
      "source": [
        "# Logical Operators........&, or,\n",
        "age = 20\n",
        "print(age > 10 or age < 10)\n",
        "age = 20\n",
        "print(age > 10 and age < 10)\n",
        "age = 5\n",
        "print(not age>6)# inverse variable\n"
      ],
      "metadata": {
        "colab": {
          "base_uri": "https://localhost:8080/"
        },
        "id": "Wma9J_jm_aKE",
        "outputId": "390a98a3-497c-4bb3-9d7a-15a40999c9e5"
      },
      "execution_count": null,
      "outputs": [
        {
          "output_type": "stream",
          "name": "stdout",
          "text": [
            "True\n",
            "False\n",
            "True\n"
          ]
        }
      ]
    },
    {
      "cell_type": "code",
      "source": [
        "# if, elif and else statements\n",
        "temperature = 30\n",
        "if temperature >= 30:\n",
        "  print(\"It's hot day\")\n",
        "elif temperature > 20:\n",
        "  print(\"Stay hydrated and take care\")\n",
        "elif temperature > 10:\n",
        "  print(\"It's a cool day\")\n",
        "else:\n",
        "  print(\"Wao! It's a good day. Enjoy your self\")\n"
      ],
      "metadata": {
        "colab": {
          "base_uri": "https://localhost:8080/"
        },
        "id": "seZNoBvoHy-b",
        "outputId": "272b3d27-6e1f-462b-ed29-f62aefc46931"
      },
      "execution_count": null,
      "outputs": [
        {
          "output_type": "stream",
          "name": "stdout",
          "text": [
            "It's hot day\n"
          ]
        }
      ]
    },
    {
      "cell_type": "code",
      "source": [
        "def convert_weight():\n",
        "    weight = float(input('Weight: '))  # Convert the input to float\n",
        "    conversion = input('(K)g or (L)bs: ').strip().lower()  # Normalize the input\n",
        "\n",
        "    if conversion == \"kg\" or conversion == \"k\":\n",
        "        converted_weight = weight * 1000  # Corrected to convert kg to grams\n",
        "        print('weight in kg ' + str(converted_weight))\n",
        "    elif conversion == \"lbs\" or conversion == \"l\":\n",
        "        converted_weight = weight * 2.20462  # Convert kg to lbs\n",
        "        print('weight in lbs ' + str(converted_weight))\n",
        "    else:\n",
        "        print(\"Invalid option. Please enter 'kg' or 'lbs'.\")\n",
        "\n",
        "convert_weight()  # Call the function\n"
      ],
      "metadata": {
        "colab": {
          "base_uri": "https://localhost:8080/"
        },
        "id": "oDmwSWFsOXWA",
        "outputId": "508cdfe8-f3c5-4c10-d3d3-01f4cf348645"
      },
      "execution_count": null,
      "outputs": [
        {
          "output_type": "stream",
          "name": "stdout",
          "text": [
            "Weight: 6\n",
            "(K)g or (L)bs: l\n",
            "weight in lbs 13.227719999999998\n"
          ]
        }
      ]
    },
    {
      "cell_type": "code",
      "source": [
        "#while loops\n",
        "i=1\n",
        "while i <= 10:\n",
        "  print(i)\n",
        "  i = i+1"
      ],
      "metadata": {
        "id": "INw--kHeQeoU"
      },
      "execution_count": null,
      "outputs": []
    },
    {
      "cell_type": "code",
      "source": [
        "i=1\n",
        "while i <= 10:\n",
        "  print(i * '*')\n",
        "  i = i+1"
      ],
      "metadata": {
        "colab": {
          "base_uri": "https://localhost:8080/"
        },
        "id": "OXAO0jeLRUnm",
        "outputId": "4ed36a0a-a116-4e07-9956-526e73151f1a"
      },
      "execution_count": null,
      "outputs": [
        {
          "output_type": "stream",
          "name": "stdout",
          "text": [
            "*\n",
            "**\n",
            "***\n",
            "****\n",
            "*****\n",
            "******\n",
            "*******\n",
            "********\n",
            "*********\n",
            "**********\n"
          ]
        }
      ]
    },
    {
      "cell_type": "code",
      "source": [
        "#Lists\n",
        "name = ['Ahmad', 'John', 'Smith', 'Bob', 'Fatima']\n",
        "print(name)\n",
        "print(name[-2])\n",
        "name[3] = 'Hina'\n",
        "print(name)\n",
        "print(name[0:3])"
      ],
      "metadata": {
        "colab": {
          "base_uri": "https://localhost:8080/"
        },
        "id": "UVy9FTWWRjTn",
        "outputId": "7ffbb795-3208-4832-f3b5-113a0cfb9419"
      },
      "execution_count": null,
      "outputs": [
        {
          "output_type": "stream",
          "name": "stdout",
          "text": [
            "['Ahmad', 'John', 'Smith', 'Bob', 'Fatima']\n",
            "Bob\n",
            "['Ahmad', 'John', 'Smith', 'Hina', 'Fatima']\n",
            "['Ahmad', 'John', 'Smith']\n"
          ]
        }
      ]
    },
    {
      "cell_type": "code",
      "source": [
        "#List Methods\n",
        "no = [1, 2, 3, 4, 5, 6]\n",
        "\n",
        "# Append 7 to the list\n",
        "no.append(7)\n",
        "print(no)  # Output: [1, 2, 3, 4, 5, 6, 7]\n",
        "\n",
        "# Insert -1 at index 0\n",
        "no.insert(0, -1)\n",
        "print(no)  # Output: [-1, 1, 2, 3, 4, 5, 6, 7]\n",
        "\n",
        "# Remove the first occurrence of 3 from the list\n",
        "no.remove(3)\n",
        "print(no)  # Output: [-1, 1, 2, 4, 5, 6, 7]\n",
        "\n",
        "# Clear the list (must call the method with parentheses)\n",
        "no.clear()\n",
        "print(no)  # Output: []\n",
        "\n",
        "# in keyword\n",
        "print(1 in no)\n",
        "\n",
        "# lenghth of list\n",
        "print(len(no))\n"
      ],
      "metadata": {
        "colab": {
          "base_uri": "https://localhost:8080/"
        },
        "id": "8Sorh4BBTXPd",
        "outputId": "5f3af80b-d4eb-4eab-d4d5-26ad629f7811"
      },
      "execution_count": null,
      "outputs": [
        {
          "output_type": "stream",
          "name": "stdout",
          "text": [
            "[1, 2, 3, 4, 5, 6, 7]\n",
            "[-1, 1, 2, 3, 4, 5, 6, 7]\n",
            "[-1, 1, 2, 4, 5, 6, 7]\n",
            "[]\n",
            "False\n",
            "0\n"
          ]
        }
      ]
    },
    {
      "cell_type": "code",
      "source": [
        "# Using a for loop to iterate over a list\n",
        "num_list = [1, 2, 3, 4, 5]\n",
        "for item in num_list:\n",
        "    print(item)\n",
        "\n",
        "# Using a for loop with range to iterate from 0 to 9\n",
        "for num in range(10):  # This will iterate from 0 to 9\n",
        "    print(num)\n",
        "\n",
        "# Using a while loop to iterate over the list\n",
        "i = 0  # Initialize the variable i\n",
        "while i < len(num_list):\n",
        "    print(num_list[i])\n",
        "    i += 1  # Increment i\n",
        "\n"
      ],
      "metadata": {
        "id": "pHaaCVAHdKZg"
      },
      "execution_count": null,
      "outputs": []
    },
    {
      "cell_type": "code",
      "source": [
        "#The range() function.........explore range of function\n",
        "num = range(5, 10, 2)\n",
        "print(num)\n",
        "for num in num:\n",
        "  print(num)\n",
        "  #OR\n",
        "for num in range(5):\n",
        "  print(num)\n"
      ],
      "metadata": {
        "colab": {
          "base_uri": "https://localhost:8080/"
        },
        "id": "9XJEoucNfqdJ",
        "outputId": "3b8214d4-2aa3-4740-81f8-25a5021313d1"
      },
      "execution_count": null,
      "outputs": [
        {
          "output_type": "stream",
          "name": "stdout",
          "text": [
            "range(5, 10, 2)\n",
            "5\n",
            "7\n",
            "9\n",
            "0\n",
            "1\n",
            "2\n",
            "3\n",
            "4\n"
          ]
        }
      ]
    },
    {
      "cell_type": "code",
      "source": [
        "#Tuples....tuples are immutable sequences that are used to store collections of items.\n",
        "#Once a tuple is created, its contents cannot be changed. Tuples are defined using parentheses ()\n",
        "num = (1,2,3,4,4)\n",
        "num.count(4)\n",
        "\n"
      ],
      "metadata": {
        "colab": {
          "base_uri": "https://localhost:8080/"
        },
        "id": "3e0kMzy6iL4e",
        "outputId": "a6decb72-868c-4aa7-a530-c15556bea242"
      },
      "execution_count": null,
      "outputs": [
        {
          "output_type": "execute_result",
          "data": {
            "text/plain": [
              "2"
            ]
          },
          "metadata": {},
          "execution_count": 80
        }
      ]
    },
    {
      "cell_type": "code",
      "source": [],
      "metadata": {
        "id": "XWyOm0xMgLkb"
      },
      "execution_count": null,
      "outputs": []
    }
  ]
}